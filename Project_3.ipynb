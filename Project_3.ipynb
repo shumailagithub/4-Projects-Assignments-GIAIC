{
  "nbformat": 4,
  "nbformat_minor": 0,
  "metadata": {
    "colab": {
      "provenance": [],
      "authorship_tag": "ABX9TyMGrzLW28PeXExmyabXvjtM",
      "include_colab_link": true
    },
    "kernelspec": {
      "name": "python3",
      "display_name": "Python 3"
    },
    "language_info": {
      "name": "python"
    }
  },
  "cells": [
    {
      "cell_type": "markdown",
      "metadata": {
        "id": "view-in-github",
        "colab_type": "text"
      },
      "source": [
        "<a href=\"https://colab.research.google.com/github/shumailagithub/4-Projects-Assignments-GIAIC/blob/main/Project_3.ipynb\" target=\"_parent\"><img src=\"https://colab.research.google.com/assets/colab-badge.svg\" alt=\"Open In Colab\"/></a>"
      ]
    },
    {
      "cell_type": "markdown",
      "source": [
        "## Guess the Number Game (User)\n",
        "[Project 3](https://colab.research.google.com/drive/1tLu_TM6mtheiy5LwUVuOc6ZWWfIIlyWs?usp=sharing)"
      ],
      "metadata": {
        "id": "C3C3lf_rkHdt"
      }
    },
    {
      "cell_type": "code",
      "source": [
        "import random\n",
        "\n",
        "def computer_guesses_number():\n",
        "    print(\"Welcome to the Number Guessing Game!\")\n",
        "    print(\"Think of a number between 1 and 100, and I'll try to guess it!\")\n",
        "\n",
        "    # Initial range\n",
        "    low = 1\n",
        "    high = 100\n",
        "    feedback = ''\n",
        "    attempts = 0\n",
        "\n",
        "    # Loop until the computer guesses correctly\n",
        "    while feedback != 'c':\n",
        "        if low != high:\n",
        "            guess = random.randint(low, high)  # Random guess within range\n",
        "        else:\n",
        "            guess = low  # Only one possible number\n",
        "\n",
        "        attempts += 1\n",
        "\n",
        "        # Get user feedback\n",
        "        feedback = input(f\"Is {guess} too high (H), too low (L), or correct (C)? \").lower()\n",
        "\n",
        "        # Adjust range based on feedback\n",
        "        if feedback == 'h':\n",
        "            high = guess - 1\n",
        "        elif feedback == 'l':\n",
        "            low = guess + 1\n",
        "        elif feedback != 'c':\n",
        "            print(\"Invalid input! Please enter H, L, or C.\")\n",
        "\n",
        "    # Success message\n",
        "    print(f\"🎉 I guessed your number {guess} in {attempts} attempts!\")\n",
        "if __name__ == \"__main__\":\n",
        "    computer_guesses_number()"
      ],
      "metadata": {
        "colab": {
          "base_uri": "https://localhost:8080/"
        },
        "id": "R8M0aytYnc64",
        "outputId": "88212521-1d46-40fc-a622-c28f217e62e5"
      },
      "execution_count": 3,
      "outputs": [
        {
          "output_type": "stream",
          "name": "stdout",
          "text": [
            "Welcome to the Number Guessing Game!\n",
            "Think of a number between 1 and 100, and I'll try to guess it!\n",
            "Is 8 too high (H), too low (L), or correct (C)? L\n",
            "Is 82 too high (H), too low (L), or correct (C)? L\n",
            "Is 88 too high (H), too low (L), or correct (C)? C\n",
            "🎉 I guessed your number 88 in 3 attempts!\n"
          ]
        }
      ]
    },
    {
      "cell_type": "code",
      "source": [
        "import random\n",
        "\n",
        "def computer_guesses_number():\n",
        "  print(\"Welcome to the Number Guessing Game!\")\n",
        "  print(\"Think of a number between 1 and 100, and I'll try to guess it!\")\n",
        "\n",
        "  #initial range\n",
        "  low = 1\n",
        "  high = 100\n",
        "  feedback = ''\n",
        "  attempts = 0\n",
        "\n",
        "  #Loop until the computer guesses correctly\n",
        "  while feedback != 'c':\n",
        "    if low != high:\n",
        "      guess = random.randint(low, high) #Random guess within range\n",
        "    else:\n",
        "      guess = low # Only one possible number\n",
        "\n",
        "    attempts += 1\n",
        "\n",
        "    #Get user feedback\n",
        "    feedback = input(f\"Is {guess} too high (H), too low (L), or correct (C)? \").lower()\n",
        "\n",
        "    #Adjust range based on feedback\n",
        "    if feedback == 'h':\n",
        "      high = guess -1\n",
        "    elif feedback == 'l':\n",
        "      low = guess + 1\n",
        "    elif feedback != 'c':\n",
        "      print(\"Invalid input! Please enter H, L, or C.\")\n",
        "\n",
        "  # success message\n",
        "  print(f\"🎉 I guessed your number {guess} in {attempts} attempts!\")\n",
        "if __name__ == \"__main__\":\n",
        "  computer_guesses_number()\n",
        "\n",
        "\n",
        ""
      ],
      "metadata": {
        "colab": {
          "base_uri": "https://localhost:8080/"
        },
        "id": "cr1KExRUojNN",
        "outputId": "547f3d10-0a2d-46a1-b8ec-5736527d7a35"
      },
      "execution_count": 4,
      "outputs": [
        {
          "output_type": "stream",
          "name": "stdout",
          "text": [
            "Welcome to the Number Guessing Game!\n",
            "Think of a number between 1 and 100, and I'll try to guess it!\n",
            "Is 38 too high (H), too low (L), or correct (C)? L\n",
            "Is 75 too high (H), too low (L), or correct (C)? L\n",
            "Is 79 too high (H), too low (L), or correct (C)? C\n",
            "🎉 I guessed your number 79 in 3 attempts!\n"
          ]
        }
      ]
    }
  ]
}