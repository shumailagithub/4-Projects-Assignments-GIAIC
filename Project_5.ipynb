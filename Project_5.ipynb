{
  "nbformat": 4,
  "nbformat_minor": 0,
  "metadata": {
    "colab": {
      "provenance": [],
      "authorship_tag": "ABX9TyMh/cXkyNBr7fQN8xJ3uwYi",
      "include_colab_link": true
    },
    "kernelspec": {
      "name": "python3",
      "display_name": "Python 3"
    },
    "language_info": {
      "name": "python"
    }
  },
  "cells": [
    {
      "cell_type": "markdown",
      "metadata": {
        "id": "view-in-github",
        "colab_type": "text"
      },
      "source": [
        "<a href=\"https://colab.research.google.com/github/shumailagithub/4-Projects-Assignments-GIAIC/blob/main/Project_5.ipynb\" target=\"_parent\"><img src=\"https://colab.research.google.com/assets/colab-badge.svg\" alt=\"Open In Colab\"/></a>"
      ]
    },
    {
      "cell_type": "markdown",
      "source": [
        "# Hangman\n",
        "[Project 5](https://colab.research.google.com/drive/1_x1nZHHrhzgvLufINanuvTHgsB6Meklh?usp=sharing)"
      ],
      "metadata": {
        "id": "uZ2S32ha1imK"
      }
    },
    {
      "cell_type": "code",
      "source": [
        "import random\n",
        "\n",
        "def choose_word():\n",
        "    words = [\"python\", \"hangman\", \"challenge\", \"programming\", \"computer\", \"algorithm\", \"developer\"]\n",
        "    return random.choice(words)\n",
        "\n",
        "def display_word(word, guessed_letters):\n",
        "    display = \"\"\n",
        "    for letter in word:\n",
        "        if letter in guessed_letters:\n",
        "            display += letter\n",
        "        else:\n",
        "            display += \"_\"\n",
        "    return display\n",
        "\n",
        "def hangman():\n",
        "    word = choose_word()\n",
        "    guessed_letters = []\n",
        "    attempts = 6\n",
        "\n",
        "    print(\"Welcome to Hangman!\")\n",
        "    print(display_word(word, guessed_letters))\n",
        "\n",
        "    while True:\n",
        "        guess = input(\"Guess a letter: \").lower()\n",
        "\n",
        "        if guess in guessed_letters:\n",
        "            print(\"You already guessed that letter!\")\n",
        "            continue\n",
        "\n",
        "        guessed_letters.append(guess)\n",
        "\n",
        "        if guess not in word:\n",
        "            attempts -= 1\n",
        "            print(f\"Wrong guess! You have {attempts} attempts left.\")\n",
        "            if attempts == 0:\n",
        "                print(f\"Game over! The word was '{word}'.\")\n",
        "                break\n",
        "        else:\n",
        "            print(\"Good guess!\")\n",
        "\n",
        "        current_display = display_word(word, guessed_letters)\n",
        "        print(current_display)\n",
        "\n",
        "        if \"_\" not in current_display:\n",
        "            print(\"Congratulations! You've guessed the word!\")\n",
        "            break\n",
        "\n",
        "if __name__ == \"__main__\":\n",
        "    hangman()"
      ],
      "metadata": {
        "colab": {
          "base_uri": "https://localhost:8080/"
        },
        "id": "CSVVpETN9B1X",
        "outputId": "78b268f2-6486-46ef-884f-d3d29d72ebad"
      },
      "execution_count": 2,
      "outputs": [
        {
          "output_type": "stream",
          "name": "stdout",
          "text": [
            "Welcome to Hangman!\n",
            "________\n",
            "Guess a letter: p\n",
            "Good guess!\n",
            "___p____\n",
            "Guess a letter: y\n",
            "Wrong guess! You have 5 attempts left.\n",
            "___p____\n",
            "Guess a letter: t\n",
            "Good guess!\n",
            "___p_t__\n",
            "Guess a letter: h\n",
            "Wrong guess! You have 4 attempts left.\n",
            "___p_t__\n",
            "Guess a letter: y\n",
            "You already guessed that letter!\n",
            "Guess a letter: o\n",
            "Good guess!\n",
            "_o_p_t__\n",
            "Guess a letter: n\n",
            "Wrong guess! You have 3 attempts left.\n",
            "_o_p_t__\n",
            "Guess a letter: c\n",
            "Good guess!\n",
            "co_p_t__\n",
            "Guess a letter: o\n",
            "You already guessed that letter!\n",
            "Guess a letter: m\n",
            "Good guess!\n",
            "comp_t__\n",
            "Guess a letter: u\n",
            "Good guess!\n",
            "comput__\n",
            "Guess a letter: t\n",
            "You already guessed that letter!\n",
            "Guess a letter: e\n",
            "Good guess!\n",
            "compute_\n",
            "Guess a letter: r\n",
            "Good guess!\n",
            "computer\n",
            "Congratulations! You've guessed the word!\n"
          ]
        }
      ]
    }
  ]
}