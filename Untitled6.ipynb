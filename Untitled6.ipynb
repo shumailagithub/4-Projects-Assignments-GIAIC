{
  "nbformat": 4,
  "nbformat_minor": 0,
  "metadata": {
    "colab": {
      "provenance": [],
      "authorship_tag": "ABX9TyN6CiyzRSnGKCxqiwKMReCo",
      "include_colab_link": true
    },
    "kernelspec": {
      "name": "python3",
      "display_name": "Python 3"
    },
    "language_info": {
      "name": "python"
    }
  },
  "cells": [
    {
      "cell_type": "markdown",
      "metadata": {
        "id": "view-in-github",
        "colab_type": "text"
      },
      "source": [
        "<a href=\"https://colab.research.google.com/github/shumailagithub/4-Projects-Assignments-GIAIC/blob/main/Untitled6.ipynb\" target=\"_parent\"><img src=\"https://colab.research.google.com/assets/colab-badge.svg\" alt=\"Open In Colab\"/></a>"
      ]
    },
    {
      "cell_type": "code",
      "execution_count": null,
      "metadata": {
        "id": "tXvwUwj_eRUs"
      },
      "outputs": [],
      "source": []
    },
    {
      "cell_type": "markdown",
      "source": [
        "## Mad libs Python Project\n",
        "[Project 1](https://colab.research.google.com/drive/1iQB_d56IXFbTbcMjZ7htZW1Te0i-dDxX?usp=sharing)"
      ],
      "metadata": {
        "id": "P73ww1TZeSUt"
      }
    },
    {
      "cell_type": "code",
      "source": [
        "name = str(input(\"What is your Name ? \"))\n",
        "age = int(input(\"What is your age ? \"))\n",
        "\n",
        "print(f\"Hello! {name}, you are {age} years old\")"
      ],
      "metadata": {
        "colab": {
          "base_uri": "https://localhost:8080/"
        },
        "id": "x9_mYscremNP",
        "outputId": "1362a422-371b-4800-b47f-f0c7e281f607"
      },
      "execution_count": 2,
      "outputs": [
        {
          "output_type": "stream",
          "name": "stdout",
          "text": [
            "What is your Name ? faith\n",
            "What is your age ? 33\n",
            "Hello! faith, you are 33 years old\n"
          ]
        }
      ]
    }
  ]
}