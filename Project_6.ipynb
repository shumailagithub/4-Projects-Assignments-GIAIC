{
  "nbformat": 4,
  "nbformat_minor": 0,
  "metadata": {
    "colab": {
      "provenance": [],
      "authorship_tag": "ABX9TyNMVTLRaHYY8TBJO2eHGxsw",
      "include_colab_link": true
    },
    "kernelspec": {
      "name": "python3",
      "display_name": "Python 3"
    },
    "language_info": {
      "name": "python"
    }
  },
  "cells": [
    {
      "cell_type": "markdown",
      "metadata": {
        "id": "view-in-github",
        "colab_type": "text"
      },
      "source": [
        "<a href=\"https://colab.research.google.com/github/shumailagithub/4-Projects-Assignments-GIAIC/blob/main/Project_6.ipynb\" target=\"_parent\"><img src=\"https://colab.research.google.com/assets/colab-badge.svg\" alt=\"Open In Colab\"/></a>"
      ]
    },
    {
      "cell_type": "markdown",
      "source": [
        "#Countdown Timer\n",
        "[Project 6](https://colab.research.google.com/drive/1kH4jVmnCyQmLVRN9n2NcDGBSxcYWl7or?usp=sharing)\n"
      ],
      "metadata": {
        "id": "oF2wGYiRYL4N"
      }
    },
    {
      "cell_type": "code",
      "source": [
        "# Countdown Timer\n",
        "# Countdown timer using the time python module. This is a great beginner project\n",
        "# to  get you used to working with while loop in python\n",
        "\n",
        "import time\n",
        "\n",
        "def countdown_timer(seconds):\n",
        "  while seconds > 0:\n",
        "    mins, secs = divmod(seconds, 60) #Calculating mins and secs\n",
        "    time_format = '{:02d}:{:02d}'.format(mins, secs)\n",
        "    print(time_format, end='\\r')\n",
        "    time.sleep(1) #Delay\n",
        "    seconds -= 1\n",
        "\n",
        "total_seconds = int(input(\"Enter the time in seconds for countdown!\"))\n",
        "countdown_timer(total_seconds)\n",
        "\n",
        "print(\"00:00 \\nTimes Up!\")"
      ],
      "metadata": {
        "colab": {
          "base_uri": "https://localhost:8080/"
        },
        "id": "b6ylgq8TYcN-",
        "outputId": "e2bce3e4-bfe4-4907-8992-c321ab1522aa"
      },
      "execution_count": 1,
      "outputs": [
        {
          "output_type": "stream",
          "name": "stdout",
          "text": [
            "Enter the time in seconds for countdown!2\n",
            "00:00 \n",
            "Times Up!\n"
          ]
        }
      ]
    }
  ]
}