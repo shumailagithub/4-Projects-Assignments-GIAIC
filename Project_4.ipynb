{
  "nbformat": 4,
  "nbformat_minor": 0,
  "metadata": {
    "colab": {
      "provenance": [],
      "authorship_tag": "ABX9TyMXMyXynCfyDsih+m3pG2VM",
      "include_colab_link": true
    },
    "kernelspec": {
      "name": "python3",
      "display_name": "Python 3"
    },
    "language_info": {
      "name": "python"
    }
  },
  "cells": [
    {
      "cell_type": "markdown",
      "metadata": {
        "id": "view-in-github",
        "colab_type": "text"
      },
      "source": [
        "<a href=\"https://colab.research.google.com/github/shumailagithub/4-Projects-Assignments-GIAIC/blob/main/Project_4.ipynb\" target=\"_parent\"><img src=\"https://colab.research.google.com/assets/colab-badge.svg\" alt=\"Open In Colab\"/></a>"
      ]
    },
    {
      "cell_type": "markdown",
      "source": [
        "## Rock, paper, scissors Python Project\n",
        "[Project 4](https://colab.research.google.com/drive/10OOG4GwEBRpPxwyuCOh7ptIHdQGsgMI1?usp=sharing)"
      ],
      "metadata": {
        "id": "UWCDT5SduZuq"
      }
    },
    {
      "cell_type": "code",
      "source": [
        "# Rock, Paper, Scissors\n",
        "# Work with random.choice(), if statements, and getting user input.\n",
        "# This is a great project to help you build on the fundamentals link\n",
        "#conditionals and functions.\n",
        "\n",
        "import random\n",
        "\n",
        "#game choices\n",
        "choices = [\"rock\", \"paper\", \"scissors\"]\n",
        "\n",
        "#Player Choice\n",
        "player_choice = input(\"Enter your choice: rock, paper, or scissors: \").lower()\n",
        "computer_choice = random.choice(choices)\n",
        "\n",
        "#Winner Decision\n",
        "if player_choice == computer_choice:\n",
        "  print(\"It is Tie\")\n",
        "\n",
        "elif(player_choice == \"rock\" and computer_choice == \"scissors\"):\n",
        "  print(\"Player Win! {player_choice} beats {computer_choice}. \")\n",
        "\n",
        "elif(player_choice == \"paper\" and computer_choice == \"rock\"):\n",
        "  print(\"Player Win! {player_choice} beats {computer_choice}.\")\n",
        "\n",
        "elif(player_choice == \"scissors\" and computer_choice == \"paper\"):\n",
        "  print(\"Player Win! {player_choice} beats {computer_choice}.\")\n",
        "\n",
        "else:\n",
        "  print(\"Computer Wins! {computer_choice} beats {player_choice}.\")\n",
        "\n",
        "\n"
      ],
      "metadata": {
        "colab": {
          "base_uri": "https://localhost:8080/"
        },
        "id": "ZCMShIsbuoIz",
        "outputId": "823bdbcd-faf5-4ea9-bf73-adacbc83abf3"
      },
      "execution_count": 4,
      "outputs": [
        {
          "output_type": "stream",
          "name": "stdout",
          "text": [
            "Enter your choice: rock, paper, or scissors: rock\n",
            "It is Tie\n"
          ]
        }
      ]
    }
  ]
}