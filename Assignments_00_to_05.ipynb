{
  "nbformat": 4,
  "nbformat_minor": 0,
  "metadata": {
    "colab": {
      "provenance": [],
      "authorship_tag": "ABX9TyOd8MWlHufGiIXN6nAPWh1M",
      "include_colab_link": true
    },
    "kernelspec": {
      "name": "python3",
      "display_name": "Python 3"
    },
    "language_info": {
      "name": "python"
    }
  },
  "cells": [
    {
      "cell_type": "markdown",
      "metadata": {
        "id": "view-in-github",
        "colab_type": "text"
      },
      "source": [
        "<a href=\"https://colab.research.google.com/github/shumailagithub/4-Projects-Assignments-GIAIC/blob/main/Assignments_00_to_05.ipynb\" target=\"_parent\"><img src=\"https://colab.research.google.com/assets/colab-badge.svg\" alt=\"Open In Colab\"/></a>"
      ]
    },
    {
      "cell_type": "markdown",
      "source": [
        "[#Assignments 00 to 05](https://colab.research.google.com/drive/1e2qwLoZgb97hSWYoM8zwY-TkubZuQ9yU?usp=sharing)\n",
        "\n",
        "## 01_add_two_numbers\n",
        "##Write a Python program that takes two integer inputs from the user and calculates their sum. The program should perform the following tasks:\n",
        "\n",
        "Prompt the user to enter the first number.\n",
        "\n",
        "Read the input and convert it to an integer.\n",
        "\n",
        "Prompt the user to enter the second number.\n",
        "\n",
        "Read the input and convert it to an integer.\n",
        "\n",
        "Calculate the sum of the two numbers.\n",
        "\n",
        "Print the total sum with an appropriate message.\n",
        "\n",
        "The provided solution demonstrates a working implementation of this problem, where the main() function guides the user through the process of entering two numbers and displays their sum.**bold text**"
      ],
      "metadata": {
        "id": "x9YBmFrPtUwm"
      }
    },
    {
      "cell_type": "code",
      "source": [
        "def add_num():\n",
        " print(\"This program add two numbers\")\n",
        "num1 = int(input(\"Enter The First Number: \"))\n",
        "num2 = int(input(\"Enter the Second Number: \"))\n",
        "sum = num1 + num2\n",
        "print(f\" The sum is {num1} + {num2} = {sum}\")\n",
        "\n",
        "if __name__ == '__main__':\n",
        "    add_num()\n",
        "\n"
      ],
      "metadata": {
        "colab": {
          "base_uri": "https://localhost:8080/"
        },
        "id": "3SUNGjNitfBN",
        "outputId": "babd42b3-0abd-48a4-857d-218508045d37"
      },
      "execution_count": null,
      "outputs": [
        {
          "output_type": "stream",
          "name": "stdout",
          "text": [
            "Enter The First Number: 22\n",
            "Enter the Second Number: 22\n",
            " The sum is 22 + 22 = 44\n",
            "This program add two numbers\n"
          ]
        }
      ]
    },
    {
      "cell_type": "markdown",
      "source": [
        "## 02_agreement_bot\n",
        "\n",
        "##Write a program which asks the user what their favorite animal is, and then always responds with \"My favorite animal is also ___!\" (the blank should be filled in with the user-inputted animal, of course).\n",
        "Here's a sample run of the program (user input is in bold italics - note the space between the prompt and the user input!):\n",
        "\n",
        "What's your favorite animal? cow\n",
        "\n",
        "My favorite animal is also cow!"
      ],
      "metadata": {
        "id": "MbMCnn04KJ_L"
      }
    },
    {
      "cell_type": "code",
      "source": [
        "def main():\n",
        "  try:\n",
        "    # Ask the user for their favorite animal\n",
        "    favorite_animal = input(\"What's your favorite animal? \")\n",
        "\n",
        "    # Respond with the same favorite animal\n",
        "    print(f\"My favorite animal is also {favorite_animal}!\")\n",
        "\n",
        "  except KeyboardInterrupt:\n",
        "      print(\"\\nProccess interrupt by user. Existing gracfully! \")\n",
        "\n",
        "\n",
        "\n",
        "if __name__ == '__main__':\n",
        "    main()\n"
      ],
      "metadata": {
        "colab": {
          "base_uri": "https://localhost:8080/"
        },
        "collapsed": true,
        "id": "YBELmMACKPt7",
        "outputId": "d36c7c9f-3a34-4069-b174-6399df6e0d36"
      },
      "execution_count": null,
      "outputs": [
        {
          "output_type": "stream",
          "name": "stdout",
          "text": [
            "What's your favorite animal? dog\n",
            "My favorite animal is also dog!\n"
          ]
        }
      ]
    },
    {
      "cell_type": "markdown",
      "source": [
        "## 03_fahrenheit_to_celsius\n",
        "## Write a program which prompts the user for a temperature in Fahrenheit (this can be a number with decimal places!) and outputs the temperature converted to Celsius.\n",
        "\n",
        "The Celsius scale is widely used to measure temperature, but places still use Fahrenheit. Fahrenheit is another unit for temperature, but the scale is different from Celsius -- for example, 0 degrees Celsius is 32 degrees Fahrenheit!\n",
        "\n",
        "The equation you should use for converting from Fahrenheit to Celsius is the following:\n",
        "\n",
        "degrees_celsius = (degrees_fahrenheit - 32) * 5.0/9.0\n",
        "\n",
        "(Note. The .0 after the 5 and 9 matters in the line above!!!)\n",
        "\n",
        "Here's a sample run of the program (user input is in bold italics):\n",
        "\n",
        "Enter temperature in Fahrenheit: 76\n",
        "\n",
        "Temperature: 76.0F = 24.444444444444443C"
      ],
      "metadata": {
        "id": "6_9pzOu2K23N"
      }
    },
    {
      "cell_type": "code",
      "source": [
        "def farenheits():\n",
        "    # Prompt user for temperature in Fahrenheit\n",
        "    degrees_fahrenheit = float(input(\"Enter temperature in Fahrenheit: \"))\n",
        "\n",
        "    # Convert Fahrenheit to Celsius\n",
        "    degrees_celsius = (degrees_fahrenheit - 32) * 5.0 / 9.0\n",
        "\n",
        "    # Print the result\n",
        "    print(f\"Temperature: {degrees_fahrenheit}F = {degrees_celsius}C\")\n",
        "\n",
        "\n",
        "\n",
        "if __name__ == '__main__':\n",
        "    farenheits()"
      ],
      "metadata": {
        "colab": {
          "base_uri": "https://localhost:8080/"
        },
        "collapsed": true,
        "id": "wMwVdMhTMLte",
        "outputId": "af688a00-56de-49cc-d0a3-e790d5819768"
      },
      "execution_count": null,
      "outputs": [
        {
          "output_type": "stream",
          "name": "stdout",
          "text": [
            "Enter temperature in Fahrenheit: 3\n",
            "Temperature: 3.0F = -16.11111111111111C\n"
          ]
        }
      ]
    },
    {
      "cell_type": "markdown",
      "source": [
        "## 04_how_old_are_they\n",
        "## Write a program to solve this age-related riddle!\n",
        "\n",
        "Anton, Beth, Chen, Drew, and Ethan are all friends. Their ages are as follows:\n",
        "\n",
        "Anton is 21 years old.\n",
        "\n",
        "Beth is 6 years older than Anton.\n",
        "\n",
        "Chen is 20 years older than Beth.\n",
        "\n",
        "Drew is as old as Chen's age plus Anton's age.\n",
        "\n",
        "Ethan is the same age as Chen.\n",
        "\n",
        "Your code should store each person's age to a variable and print their names and ages at the end. The autograder is sensitive to capitalization and punctuation, be careful! Your solution should look like this (the below numbers are made up -- your solution should have the correct values!):"
      ],
      "metadata": {
        "id": "KHys3AIATiX6"
      }
    },
    {
      "cell_type": "code",
      "source": [
        "def main():\n",
        "  anton : int = 21 #antone age is given as 21 years old\n",
        "  beth : int = 6 + anton #beth is 6 years old  than Anton, so add 6 to get beth's age\n",
        "  chen : int = 20 + beth #chen is 20 years older than beth, so add 20 to beth's age to get chen's age\n",
        "  drew : int = chen + anton # Drew is as old as chen's age plus Anton's age, so add them together\n",
        "  ethan : int = chen # Ethan is the same age as chen, so set Ethan's age equal to chen's age\n",
        "\n",
        "  print(\"Anton is\" + str(anton))\n",
        "  print(\"Beth is\" + str(beth))\n",
        "  print(\"Chen is\" + str(chen))\n",
        "  print(\"Drew is\" + str(drew))\n",
        "  print(\"Ethan is\" + str(ethan))\n",
        "\n",
        "if __name__ == \"__main__\":\n",
        "  main()"
      ],
      "metadata": {
        "colab": {
          "base_uri": "https://localhost:8080/"
        },
        "id": "osekDNflT7xd",
        "outputId": "66c11713-8883-4ac4-ce9a-2d4e2826b61d"
      },
      "execution_count": null,
      "outputs": [
        {
          "output_type": "stream",
          "name": "stdout",
          "text": [
            "Anton is21\n",
            "Beth is27\n",
            "Chen is47\n",
            "Drew is68\n",
            "Ethan is47\n"
          ]
        }
      ]
    },
    {
      "cell_type": "markdown",
      "source": [
        "## 05_triangle_perimeter\n",
        "Prompt the user to enter the lengths of each side of a triangle and then calculate and print the perimeter of the triangle (the sum of all of the side lengths).\n",
        "\n",
        "Here's a sample run of the program (user input is in bold italics):\n",
        "\n",
        "What is the length of side 1? 3\n",
        "\n",
        "What is the length of side 2? 4\n",
        "\n",
        "What is the length of side 3? 5.5\n",
        "\n",
        "The perimeter of the triangle is 12.5\n"
      ],
      "metadata": {
        "id": "xURLqdkBAsSK"
      }
    },
    {
      "cell_type": "code",
      "source": [
        "def main():\n",
        "# Get the lengths of the sides of the triangle from the user\n",
        "    side1 = float(input(\"What is the length of side 1? \"))\n",
        "    side2 = float(input(\"What is the length of side 2? \"))\n",
        "    side3 = float(input(\"What is the length of side 3? \"))\n",
        "\n",
        "    perimeter = side1 + side2 + side3\n",
        "# Display the perimeter of the triangle\n",
        "\n",
        "    print(\"The perimeter of the triangle is\", {perimeter})\n",
        "\n",
        "if __name__ == \"__main__\":\n",
        "    main()"
      ],
      "metadata": {
        "colab": {
          "base_uri": "https://localhost:8080/"
        },
        "id": "Ct14vX74Bw5X",
        "outputId": "ff6ed00b-703b-4030-b242-2f1ab6ee18c2"
      },
      "execution_count": 1,
      "outputs": [
        {
          "output_type": "stream",
          "name": "stdout",
          "text": [
            "What is the length of side 1? 2\n",
            "What is the length of side 2? 2\n",
            "What is the length of side 3? 2\n",
            "The perimeter of the triangle is {6.0}\n"
          ]
        }
      ]
    }
  ]
}