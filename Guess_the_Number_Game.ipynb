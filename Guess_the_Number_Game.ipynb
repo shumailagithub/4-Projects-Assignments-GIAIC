{
  "nbformat": 4,
  "nbformat_minor": 0,
  "metadata": {
    "colab": {
      "provenance": [],
      "authorship_tag": "ABX9TyN2dTMhpcP7Lft5i2CJZcNZ",
      "include_colab_link": true
    },
    "kernelspec": {
      "name": "python3",
      "display_name": "Python 3"
    },
    "language_info": {
      "name": "python"
    }
  },
  "cells": [
    {
      "cell_type": "markdown",
      "metadata": {
        "id": "view-in-github",
        "colab_type": "text"
      },
      "source": [
        "<a href=\"https://colab.research.google.com/github/shumailagithub/4-Projects-Assignments-GIAIC/blob/main/Guess_the_Number_Game.ipynb\" target=\"_parent\"><img src=\"https://colab.research.google.com/assets/colab-badge.svg\" alt=\"Open In Colab\"/></a>"
      ]
    },
    {
      "cell_type": "markdown",
      "source": [
        "## Guess the Number Game\n",
        "[Project 2](https://colab.research.google.com/drive/1L46L5g5DgzW1aNwlk4qlx1tQl49_Nqqt?usp=sharing)"
      ],
      "metadata": {
        "id": "KTfUvadNhpCy"
      }
    },
    {
      "cell_type": "code",
      "source": [
        "import random\n",
        "\n",
        "def guessing_game():\n",
        "  \"\"\"Plays a number guessing game with the user.\"\"\"\n",
        "\n",
        "  original_number = random.randint(1, 100)\n",
        "  guesses_left = 7\n",
        "\n",
        "  print(\"Welcome to the Number Guessing Game!\")\n",
        "  print(\"I'm thinking of a number between 1 and 100.\")\n",
        "\n",
        "  while guesses_left > 0:\n",
        "    print(f\"\\nYou have {guesses_left} guesses left.\")\n",
        "    try:\n",
        "      guess = int(input(\"Take a guess: \"))\n",
        "    except ValueError:\n",
        "      print(\"Invalid input. Please enter a number.\")\n",
        "      continue\n",
        "\n",
        "    if guess < original_number:\n",
        "      print(\"Guess is Too Low Try again\")\n",
        "    elif guess > original_number:\n",
        "      print(\"Guess is Too High Try again\")\n",
        "    else:\n",
        "      print(f\"Congratulations! You guessed the number in {7 - guesses_left +1} tries!\")\n",
        "      return\n",
        "\n",
        "    guesses_left -= 1\n",
        "\n",
        "  print(f\"\\nYou ran out of guesses. The number was {original_number}.\")\n",
        "\n",
        "guessing_game()"
      ],
      "metadata": {
        "colab": {
          "base_uri": "https://localhost:8080/"
        },
        "id": "g4gnsbEQpjRO",
        "outputId": "e152fff3-c2fd-411e-d6d2-7b796338876f"
      },
      "execution_count": 2,
      "outputs": [
        {
          "output_type": "stream",
          "name": "stdout",
          "text": [
            "Welcome to the Number Guessing Game!\n",
            "I'm thinking of a number between 1 and 100.\n",
            "\n",
            "You have 7 guesses left.\n",
            "Take a guess: 20\n",
            "Guess is Too Low Try again\n",
            "\n",
            "You have 6 guesses left.\n",
            "Take a guess: 30\n",
            "Guess is Too Low Try again\n",
            "\n",
            "You have 5 guesses left.\n",
            "Take a guess: 40\n",
            "Guess is Too Low Try again\n",
            "\n",
            "You have 4 guesses left.\n",
            "Take a guess: 60\n",
            "Guess is Too Low Try again\n",
            "\n",
            "You have 3 guesses left.\n",
            "Take a guess: 70\n",
            "Guess is Too High Try again\n",
            "\n",
            "You have 2 guesses left.\n",
            "Take a guess: 65\n",
            "Guess is Too High Try again\n",
            "\n",
            "You have 1 guesses left.\n",
            "Take a guess: 62\n",
            "Guess is Too High Try again\n",
            "\n",
            "You ran out of guesses. The number was 61.\n"
          ]
        }
      ]
    }
  ]
}